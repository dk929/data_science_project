{
 "cells": [
  {
   "cell_type": "code",
   "execution_count": 1,
   "id": "c5d9e032",
   "metadata": {},
   "outputs": [],
   "source": [
    "import pandas as pd\n",
    "import matplotlib.pyplot as plt"
   ]
  },
  {
   "cell_type": "code",
   "execution_count": 2,
   "id": "6f9a7ec5",
   "metadata": {},
   "outputs": [],
   "source": [
    "ipl = pd.read_csv('ipl..csv')"
   ]
  },
  {
   "cell_type": "code",
   "execution_count": 3,
   "id": "1e15e546",
   "metadata": {},
   "outputs": [
    {
     "data": {
      "text/html": [
       "<div>\n",
       "<style scoped>\n",
       "    .dataframe tbody tr th:only-of-type {\n",
       "        vertical-align: middle;\n",
       "    }\n",
       "\n",
       "    .dataframe tbody tr th {\n",
       "        vertical-align: top;\n",
       "    }\n",
       "\n",
       "    .dataframe thead th {\n",
       "        text-align: right;\n",
       "    }\n",
       "</style>\n",
       "<table border=\"1\" class=\"dataframe\">\n",
       "  <thead>\n",
       "    <tr style=\"text-align: right;\">\n",
       "      <th></th>\n",
       "      <th>id</th>\n",
       "      <th>city</th>\n",
       "      <th>date</th>\n",
       "      <th>player_of_match</th>\n",
       "      <th>venue</th>\n",
       "      <th>neutral_venue</th>\n",
       "      <th>team1</th>\n",
       "      <th>team2</th>\n",
       "      <th>toss_winner</th>\n",
       "      <th>toss_decision</th>\n",
       "      <th>winner</th>\n",
       "      <th>result</th>\n",
       "      <th>result_margin</th>\n",
       "      <th>eliminator</th>\n",
       "      <th>method</th>\n",
       "      <th>umpire1</th>\n",
       "      <th>umpire2</th>\n",
       "    </tr>\n",
       "  </thead>\n",
       "  <tbody>\n",
       "    <tr>\n",
       "      <th>0</th>\n",
       "      <td>335982</td>\n",
       "      <td>Bangalore</td>\n",
       "      <td>18-04-2008</td>\n",
       "      <td>BB McCullum</td>\n",
       "      <td>M Chinnaswamy Stadium</td>\n",
       "      <td>0</td>\n",
       "      <td>Royal Challengers Bangalore</td>\n",
       "      <td>Kolkata Knight Riders</td>\n",
       "      <td>Royal Challengers Bangalore</td>\n",
       "      <td>field</td>\n",
       "      <td>Kolkata Knight Riders</td>\n",
       "      <td>runs</td>\n",
       "      <td>140.0</td>\n",
       "      <td>N</td>\n",
       "      <td>NaN</td>\n",
       "      <td>Asad Rauf</td>\n",
       "      <td>RE Koertzen</td>\n",
       "    </tr>\n",
       "    <tr>\n",
       "      <th>1</th>\n",
       "      <td>335983</td>\n",
       "      <td>Chandigarh</td>\n",
       "      <td>19-04-2008</td>\n",
       "      <td>MEK Hussey</td>\n",
       "      <td>Punjab Cricket Association Stadium, Mohali</td>\n",
       "      <td>0</td>\n",
       "      <td>Kings XI Punjab</td>\n",
       "      <td>Chennai Super Kings</td>\n",
       "      <td>Chennai Super Kings</td>\n",
       "      <td>bat</td>\n",
       "      <td>Chennai Super Kings</td>\n",
       "      <td>runs</td>\n",
       "      <td>33.0</td>\n",
       "      <td>N</td>\n",
       "      <td>NaN</td>\n",
       "      <td>MR Benson</td>\n",
       "      <td>SL Shastri</td>\n",
       "    </tr>\n",
       "    <tr>\n",
       "      <th>2</th>\n",
       "      <td>335984</td>\n",
       "      <td>Delhi</td>\n",
       "      <td>19-04-2008</td>\n",
       "      <td>MF Maharoof</td>\n",
       "      <td>Feroz Shah Kotla</td>\n",
       "      <td>0</td>\n",
       "      <td>Delhi Daredevils</td>\n",
       "      <td>Rajasthan Royals</td>\n",
       "      <td>Rajasthan Royals</td>\n",
       "      <td>bat</td>\n",
       "      <td>Delhi Daredevils</td>\n",
       "      <td>wickets</td>\n",
       "      <td>9.0</td>\n",
       "      <td>N</td>\n",
       "      <td>NaN</td>\n",
       "      <td>Aleem Dar</td>\n",
       "      <td>GA Pratapkumar</td>\n",
       "    </tr>\n",
       "    <tr>\n",
       "      <th>3</th>\n",
       "      <td>335985</td>\n",
       "      <td>Mumbai</td>\n",
       "      <td>20-04-2008</td>\n",
       "      <td>MV Boucher</td>\n",
       "      <td>Wankhede Stadium</td>\n",
       "      <td>0</td>\n",
       "      <td>Mumbai Indians</td>\n",
       "      <td>Royal Challengers Bangalore</td>\n",
       "      <td>Mumbai Indians</td>\n",
       "      <td>bat</td>\n",
       "      <td>Royal Challengers Bangalore</td>\n",
       "      <td>wickets</td>\n",
       "      <td>5.0</td>\n",
       "      <td>N</td>\n",
       "      <td>NaN</td>\n",
       "      <td>SJ Davis</td>\n",
       "      <td>DJ Harper</td>\n",
       "    </tr>\n",
       "    <tr>\n",
       "      <th>4</th>\n",
       "      <td>335986</td>\n",
       "      <td>Kolkata</td>\n",
       "      <td>20-04-2008</td>\n",
       "      <td>DJ Hussey</td>\n",
       "      <td>Eden Gardens</td>\n",
       "      <td>0</td>\n",
       "      <td>Kolkata Knight Riders</td>\n",
       "      <td>Deccan Chargers</td>\n",
       "      <td>Deccan Chargers</td>\n",
       "      <td>bat</td>\n",
       "      <td>Kolkata Knight Riders</td>\n",
       "      <td>wickets</td>\n",
       "      <td>5.0</td>\n",
       "      <td>N</td>\n",
       "      <td>NaN</td>\n",
       "      <td>BF Bowden</td>\n",
       "      <td>K Hariharan</td>\n",
       "    </tr>\n",
       "  </tbody>\n",
       "</table>\n",
       "</div>"
      ],
      "text/plain": [
       "       id        city        date player_of_match  \\\n",
       "0  335982   Bangalore  18-04-2008     BB McCullum   \n",
       "1  335983  Chandigarh  19-04-2008      MEK Hussey   \n",
       "2  335984       Delhi  19-04-2008     MF Maharoof   \n",
       "3  335985      Mumbai  20-04-2008      MV Boucher   \n",
       "4  335986     Kolkata  20-04-2008       DJ Hussey   \n",
       "\n",
       "                                        venue  neutral_venue  \\\n",
       "0                       M Chinnaswamy Stadium              0   \n",
       "1  Punjab Cricket Association Stadium, Mohali              0   \n",
       "2                            Feroz Shah Kotla              0   \n",
       "3                            Wankhede Stadium              0   \n",
       "4                                Eden Gardens              0   \n",
       "\n",
       "                         team1                        team2  \\\n",
       "0  Royal Challengers Bangalore        Kolkata Knight Riders   \n",
       "1              Kings XI Punjab          Chennai Super Kings   \n",
       "2             Delhi Daredevils             Rajasthan Royals   \n",
       "3               Mumbai Indians  Royal Challengers Bangalore   \n",
       "4        Kolkata Knight Riders              Deccan Chargers   \n",
       "\n",
       "                   toss_winner toss_decision                       winner  \\\n",
       "0  Royal Challengers Bangalore         field        Kolkata Knight Riders   \n",
       "1          Chennai Super Kings           bat          Chennai Super Kings   \n",
       "2             Rajasthan Royals           bat             Delhi Daredevils   \n",
       "3               Mumbai Indians           bat  Royal Challengers Bangalore   \n",
       "4              Deccan Chargers           bat        Kolkata Knight Riders   \n",
       "\n",
       "    result  result_margin eliminator method    umpire1         umpire2  \n",
       "0     runs          140.0          N    NaN  Asad Rauf     RE Koertzen  \n",
       "1     runs           33.0          N    NaN  MR Benson      SL Shastri  \n",
       "2  wickets            9.0          N    NaN  Aleem Dar  GA Pratapkumar  \n",
       "3  wickets            5.0          N    NaN   SJ Davis       DJ Harper  \n",
       "4  wickets            5.0          N    NaN  BF Bowden     K Hariharan  "
      ]
     },
     "execution_count": 3,
     "metadata": {},
     "output_type": "execute_result"
    }
   ],
   "source": [
    "ipl.head()"
   ]
  },
  {
   "cell_type": "code",
   "execution_count": 4,
   "id": "d4ac941d",
   "metadata": {},
   "outputs": [
    {
     "data": {
      "text/plain": [
       "(816, 17)"
      ]
     },
     "execution_count": 4,
     "metadata": {},
     "output_type": "execute_result"
    }
   ],
   "source": [
    "ipl.shape"
   ]
  },
  {
   "cell_type": "code",
   "execution_count": 5,
   "id": "e6cbd1b3",
   "metadata": {},
   "outputs": [
    {
     "data": {
      "text/plain": [
       "AB de Villiers    23\n",
       "CH Gayle          22\n",
       "RG Sharma         18\n",
       "DA Warner         17\n",
       "MS Dhoni          17\n",
       "                  ..\n",
       "S Anirudha         1\n",
       "M Kartik           1\n",
       "R McLaren          1\n",
       "RJ Harris          1\n",
       "PJ Cummins         1\n",
       "Name: player_of_match, Length: 233, dtype: int64"
      ]
     },
     "execution_count": 5,
     "metadata": {},
     "output_type": "execute_result"
    }
   ],
   "source": [
    "ipl['player_of_match'].value_counts()"
   ]
  },
  {
   "cell_type": "code",
   "execution_count": 6,
   "id": "df331739",
   "metadata": {},
   "outputs": [
    {
     "data": {
      "text/plain": [
       "AB de Villiers    23\n",
       "CH Gayle          22\n",
       "RG Sharma         18\n",
       "DA Warner         17\n",
       "MS Dhoni          17\n",
       "SR Watson         16\n",
       "YK Pathan         16\n",
       "SK Raina          14\n",
       "V Kohli           13\n",
       "G Gambhir         13\n",
       "Name: player_of_match, dtype: int64"
      ]
     },
     "execution_count": 6,
     "metadata": {},
     "output_type": "execute_result"
    }
   ],
   "source": [
    "ipl['player_of_match'].value_counts()[:10]"
   ]
  },
  {
   "cell_type": "code",
   "execution_count": 7,
   "id": "7b954691",
   "metadata": {},
   "outputs": [
    {
     "data": {
      "text/plain": [
       "AB de Villiers    23\n",
       "CH Gayle          22\n",
       "RG Sharma         18\n",
       "DA Warner         17\n",
       "MS Dhoni          17\n",
       "Name: player_of_match, dtype: int64"
      ]
     },
     "execution_count": 7,
     "metadata": {},
     "output_type": "execute_result"
    }
   ],
   "source": [
    "ipl['player_of_match'].value_counts()[:5]"
   ]
  },
  {
   "cell_type": "code",
   "execution_count": 8,
   "id": "3fccb817",
   "metadata": {},
   "outputs": [
    {
     "data": {
      "text/plain": [
       "['AB de Villiers', 'CH Gayle', 'RG Sharma', 'DA Warner', 'MS Dhoni']"
      ]
     },
     "execution_count": 8,
     "metadata": {},
     "output_type": "execute_result"
    }
   ],
   "source": [
    "list(ipl['player_of_match'].value_counts()[:5].keys())"
   ]
  },
  {
   "cell_type": "code",
   "execution_count": 13,
   "id": "eac4667c",
   "metadata": {},
   "outputs": [
    {
     "data": {
      "image/png": "[encoded data removed]",
      "text/plain": [
       "<Figure size 576x288 with 1 Axes>"
      ]
     },
     "metadata": {
      "needs_background": "light"
     },
     "output_type": "display_data"
    }
   ],
   "source": [
    "plt.figure(figsize=(8,4))\n",
    "plt.bar(list(ipl['player_of_match'].value_counts()[:5].keys()),list(ipl['player_of_match'].value_counts()[:5]), color=\"g\")\n",
    "plt.show()"
   ]
  },
  {
   "cell_type": "code",
   "execution_count": 14,
   "id": "069ac7c6",
   "metadata": {},
   "outputs": [
    {
     "data": {
      "text/plain": [
       "wickets    435\n",
       "runs       364\n",
       "tie         13\n",
       "Name: result, dtype: int64"
      ]
     },
     "execution_count": 14,
     "metadata": {},
     "output_type": "execute_result"
    }
   ],
   "source": [
    "ipl['result'].value_counts()"
   ]
  },
  {
   "cell_type": "code",
   "execution_count": 15,
   "id": "7867266a",
   "metadata": {},
   "outputs": [
    {
     "data": {
      "text/plain": [
       "Mumbai Indians                 106\n",
       "Kolkata Knight Riders           98\n",
       "Chennai Super Kings             97\n",
       "Royal Challengers Bangalore     87\n",
       "Rajasthan Royals                87\n",
       "Kings XI Punjab                 85\n",
       "Delhi Daredevils                80\n",
       "Sunrisers Hyderabad             57\n",
       "Deccan Chargers                 43\n",
       "Pune Warriors                   20\n",
       "Delhi Capitals                  20\n",
       "Gujarat Lions                   15\n",
       "Kochi Tuskers Kerala             8\n",
       "Rising Pune Supergiants          7\n",
       "Rising Pune Supergiant           6\n",
       "Name: toss_winner, dtype: int64"
      ]
     },
     "execution_count": 15,
     "metadata": {},
     "output_type": "execute_result"
    }
   ],
   "source": [
    "ipl['toss_winner'].value_counts()"
   ]
  },
  {
   "cell_type": "code",
   "execution_count": 16,
   "id": "41a0e7c3",
   "metadata": {},
   "outputs": [],
   "source": [
    "#checking winning by runs in first batting\n",
    "first_batting = ipl[ipl['result']!='wickets']"
   ]
  },
  {
   "cell_type": "code",
   "execution_count": 17,
   "id": "25e8bbca",
   "metadata": {},
   "outputs": [
    {
     "data": {
      "text/html": [
       "<div>\n",
       "<style scoped>\n",
       "    .dataframe tbody tr th:only-of-type {\n",
       "        vertical-align: middle;\n",
       "    }\n",
       "\n",
       "    .dataframe tbody tr th {\n",
       "        vertical-align: top;\n",
       "    }\n",
       "\n",
       "    .dataframe thead th {\n",
       "        text-align: right;\n",
       "    }\n",
       "</style>\n",
       "<table border=\"1\" class=\"dataframe\">\n",
       "  <thead>\n",
       "    <tr style=\"text-align: right;\">\n",
       "      <th></th>\n",
       "      <th>id</th>\n",
       "      <th>city</th>\n",
       "      <th>date</th>\n",
       "      <th>player_of_match</th>\n",
       "      <th>venue</th>\n",
       "      <th>neutral_venue</th>\n",
       "      <th>team1</th>\n",
       "      <th>team2</th>\n",
       "      <th>toss_winner</th>\n",
       "      <th>toss_decision</th>\n",
       "      <th>winner</th>\n",
       "      <th>result</th>\n",
       "      <th>result_margin</th>\n",
       "      <th>eliminator</th>\n",
       "      <th>method</th>\n",
       "      <th>umpire1</th>\n",
       "      <th>umpire2</th>\n",
       "    </tr>\n",
       "  </thead>\n",
       "  <tbody>\n",
       "    <tr>\n",
       "      <th>0</th>\n",
       "      <td>335982</td>\n",
       "      <td>Bangalore</td>\n",
       "      <td>18-04-2008</td>\n",
       "      <td>BB McCullum</td>\n",
       "      <td>M Chinnaswamy Stadium</td>\n",
       "      <td>0</td>\n",
       "      <td>Royal Challengers Bangalore</td>\n",
       "      <td>Kolkata Knight Riders</td>\n",
       "      <td>Royal Challengers Bangalore</td>\n",
       "      <td>field</td>\n",
       "      <td>Kolkata Knight Riders</td>\n",
       "      <td>runs</td>\n",
       "      <td>140.0</td>\n",
       "      <td>N</td>\n",
       "      <td>NaN</td>\n",
       "      <td>Asad Rauf</td>\n",
       "      <td>RE Koertzen</td>\n",
       "    </tr>\n",
       "    <tr>\n",
       "      <th>1</th>\n",
       "      <td>335983</td>\n",
       "      <td>Chandigarh</td>\n",
       "      <td>19-04-2008</td>\n",
       "      <td>MEK Hussey</td>\n",
       "      <td>Punjab Cricket Association Stadium, Mohali</td>\n",
       "      <td>0</td>\n",
       "      <td>Kings XI Punjab</td>\n",
       "      <td>Chennai Super Kings</td>\n",
       "      <td>Chennai Super Kings</td>\n",
       "      <td>bat</td>\n",
       "      <td>Chennai Super Kings</td>\n",
       "      <td>runs</td>\n",
       "      <td>33.0</td>\n",
       "      <td>N</td>\n",
       "      <td>NaN</td>\n",
       "      <td>MR Benson</td>\n",
       "      <td>SL Shastri</td>\n",
       "    </tr>\n",
       "    <tr>\n",
       "      <th>7</th>\n",
       "      <td>335989</td>\n",
       "      <td>Chennai</td>\n",
       "      <td>23-04-2008</td>\n",
       "      <td>ML Hayden</td>\n",
       "      <td>MA Chidambaram Stadium, Chepauk</td>\n",
       "      <td>0</td>\n",
       "      <td>Chennai Super Kings</td>\n",
       "      <td>Mumbai Indians</td>\n",
       "      <td>Mumbai Indians</td>\n",
       "      <td>field</td>\n",
       "      <td>Chennai Super Kings</td>\n",
       "      <td>runs</td>\n",
       "      <td>6.0</td>\n",
       "      <td>N</td>\n",
       "      <td>NaN</td>\n",
       "      <td>DJ Harper</td>\n",
       "      <td>GA Pratapkumar</td>\n",
       "    </tr>\n",
       "    <tr>\n",
       "      <th>9</th>\n",
       "      <td>335991</td>\n",
       "      <td>Chandigarh</td>\n",
       "      <td>25-04-2008</td>\n",
       "      <td>KC Sangakkara</td>\n",
       "      <td>Punjab Cricket Association Stadium, Mohali</td>\n",
       "      <td>0</td>\n",
       "      <td>Kings XI Punjab</td>\n",
       "      <td>Mumbai Indians</td>\n",
       "      <td>Mumbai Indians</td>\n",
       "      <td>field</td>\n",
       "      <td>Kings XI Punjab</td>\n",
       "      <td>runs</td>\n",
       "      <td>66.0</td>\n",
       "      <td>N</td>\n",
       "      <td>NaN</td>\n",
       "      <td>Aleem Dar</td>\n",
       "      <td>AM Saheba</td>\n",
       "    </tr>\n",
       "    <tr>\n",
       "      <th>14</th>\n",
       "      <td>335996</td>\n",
       "      <td>Bangalore</td>\n",
       "      <td>28-04-2008</td>\n",
       "      <td>MS Dhoni</td>\n",
       "      <td>M Chinnaswamy Stadium</td>\n",
       "      <td>0</td>\n",
       "      <td>Royal Challengers Bangalore</td>\n",
       "      <td>Chennai Super Kings</td>\n",
       "      <td>Chennai Super Kings</td>\n",
       "      <td>bat</td>\n",
       "      <td>Chennai Super Kings</td>\n",
       "      <td>runs</td>\n",
       "      <td>13.0</td>\n",
       "      <td>N</td>\n",
       "      <td>NaN</td>\n",
       "      <td>BR Doctrove</td>\n",
       "      <td>RB Tiffin</td>\n",
       "    </tr>\n",
       "  </tbody>\n",
       "</table>\n",
       "</div>"
      ],
      "text/plain": [
       "        id        city        date player_of_match  \\\n",
       "0   335982   Bangalore  18-04-2008     BB McCullum   \n",
       "1   335983  Chandigarh  19-04-2008      MEK Hussey   \n",
       "7   335989     Chennai  23-04-2008       ML Hayden   \n",
       "9   335991  Chandigarh  25-04-2008   KC Sangakkara   \n",
       "14  335996   Bangalore  28-04-2008        MS Dhoni   \n",
       "\n",
       "                                         venue  neutral_venue  \\\n",
       "0                        M Chinnaswamy Stadium              0   \n",
       "1   Punjab Cricket Association Stadium, Mohali              0   \n",
       "7              MA Chidambaram Stadium, Chepauk              0   \n",
       "9   Punjab Cricket Association Stadium, Mohali              0   \n",
       "14                       M Chinnaswamy Stadium              0   \n",
       "\n",
       "                          team1                  team2  \\\n",
       "0   Royal Challengers Bangalore  Kolkata Knight Riders   \n",
       "1               Kings XI Punjab    Chennai Super Kings   \n",
       "7           Chennai Super Kings         Mumbai Indians   \n",
       "9               Kings XI Punjab         Mumbai Indians   \n",
       "14  Royal Challengers Bangalore    Chennai Super Kings   \n",
       "\n",
       "                    toss_winner toss_decision                 winner result  \\\n",
       "0   Royal Challengers Bangalore         field  Kolkata Knight Riders   runs   \n",
       "1           Chennai Super Kings           bat    Chennai Super Kings   runs   \n",
       "7                Mumbai Indians         field    Chennai Super Kings   runs   \n",
       "9                Mumbai Indians         field        Kings XI Punjab   runs   \n",
       "14          Chennai Super Kings           bat    Chennai Super Kings   runs   \n",
       "\n",
       "    result_margin eliminator method      umpire1         umpire2  \n",
       "0           140.0          N    NaN    Asad Rauf     RE Koertzen  \n",
       "1            33.0          N    NaN    MR Benson      SL Shastri  \n",
       "7             6.0          N    NaN    DJ Harper  GA Pratapkumar  \n",
       "9            66.0          N    NaN    Aleem Dar       AM Saheba  \n",
       "14           13.0          N    NaN  BR Doctrove       RB Tiffin  "
      ]
     },
     "execution_count": 17,
     "metadata": {},
     "output_type": "execute_result"
    }
   ],
   "source": [
    "first_batting.head()"
   ]
  },
  {
   "cell_type": "code",
   "execution_count": 19,
   "id": "1d3a4ec8",
   "metadata": {},
   "outputs": [],
   "source": [
    "# plt.figure(figsize=(8,4))\n",
    "# plt.hist(first_batting['result'])\n",
    "# plt.title('Distribution of runs')\n",
    "# plt.xlabel(\"runs\")\n",
    "# plt.show()"
   ]
  },
  {
   "cell_type": "code",
   "execution_count": 21,
   "id": "bcd85b4a",
   "metadata": {},
   "outputs": [
    {
     "data": {
      "text/plain": [
       "Mumbai Indians                 64\n",
       "Chennai Super Kings            53\n",
       "Kings XI Punjab                43\n",
       "Kolkata Knight Riders          42\n",
       "Royal Challengers Bangalore    40\n",
       "Sunrisers Hyderabad            35\n",
       "Rajasthan Royals               30\n",
       "Delhi Daredevils               25\n",
       "Deccan Chargers                18\n",
       "Delhi Capitals                 11\n",
       "Pune Warriors                   6\n",
       "Rising Pune Supergiant          5\n",
       "Kochi Tuskers Kerala            2\n",
       "Rising Pune Supergiants         2\n",
       "Gujarat Lions                   1\n",
       "Name: winner, dtype: int64"
      ]
     },
     "execution_count": 21,
     "metadata": {},
     "output_type": "execute_result"
    }
   ],
   "source": [
    "first_batting['winner'].value_counts()"
   ]
  },
  {
   "cell_type": "code",
   "execution_count": 34,
   "id": "31c120f8",
   "metadata": {},
   "outputs": [
    {
     "data": {
      "text/plain": [
       "[64, 53, 43, 42, 40]"
      ]
     },
     "execution_count": 34,
     "metadata": {},
     "output_type": "execute_result"
    }
   ],
   "source": [
    "list(first_batting['winner'].value_counts()[:5])"
   ]
  },
  {
   "cell_type": "code",
   "execution_count": 32,
   "id": "58d2a02d",
   "metadata": {},
   "outputs": [
    {
     "data": {
      "text/plain": [
       "['Mumbai Indians',\n",
       " 'Chennai Super Kings',\n",
       " 'Kings XI Punjab',\n",
       " 'Kolkata Knight Riders',\n",
       " 'Royal Challengers Bangalore']"
      ]
     },
     "execution_count": 32,
     "metadata": {},
     "output_type": "execute_result"
    }
   ],
   "source": [
    "list(first_batting['winner'].value_counts()[:5].keys())"
   ]
  },
  {
   "cell_type": "code",
   "execution_count": 38,
   "id": "8bc956a9",
   "metadata": {},
   "outputs": [
    {
     "data": {
      "image/png": "[encoded data removed]",
      "text/plain": [
       "<Figure size 576x288 with 1 Axes>"
      ]
     },
     "metadata": {
      "needs_background": "light"
     },
     "output_type": "display_data"
    }
   ],
   "source": [
    "plt.figure(figsize=(8,4))\n",
    "plt.bar(list(first_batting['winner'].value_counts()[:5].keys()),list(first_batting['winner'].value_counts()[:5]))\n",
    "plt.show()"
   ]
  },
  {
   "cell_type": "code",
   "execution_count": 41,
   "id": "5310a3f9",
   "metadata": {},
   "outputs": [
    {
     "data": {
      "image/png": "[encoded data removed]",
      "text/plain": [
       "<Figure size 504x504 with 1 Axes>"
      ]
     },
     "metadata": {},
     "output_type": "display_data"
    }
   ],
   "source": [
    "plt.figure(figsize=(7,7))\n",
    "plt.pie(list(first_batting['winner'].value_counts()),labels=list(first_batting['winner'].value_counts().keys()),autopct='%0.1f%%')\n",
    "plt.show()"
   ]
  },
  {
   "cell_type": "code",
   "execution_count": 44,
   "id": "e4baffee",
   "metadata": {},
   "outputs": [],
   "source": [
    "second_batting = ipl[ipl['result']!='runs']"
   ]
  },
  {
   "cell_type": "code",
   "execution_count": 46,
   "id": "21447836",
   "metadata": {},
   "outputs": [
    {
     "data": {
      "text/html": [
       "<div>\n",
       "<style scoped>\n",
       "    .dataframe tbody tr th:only-of-type {\n",
       "        vertical-align: middle;\n",
       "    }\n",
       "\n",
       "    .dataframe tbody tr th {\n",
       "        vertical-align: top;\n",
       "    }\n",
       "\n",
       "    .dataframe thead th {\n",
       "        text-align: right;\n",
       "    }\n",
       "</style>\n",
       "<table border=\"1\" class=\"dataframe\">\n",
       "  <thead>\n",
       "    <tr style=\"text-align: right;\">\n",
       "      <th></th>\n",
       "      <th>id</th>\n",
       "      <th>city</th>\n",
       "      <th>date</th>\n",
       "      <th>player_of_match</th>\n",
       "      <th>venue</th>\n",
       "      <th>neutral_venue</th>\n",
       "      <th>team1</th>\n",
       "      <th>team2</th>\n",
       "      <th>toss_winner</th>\n",
       "      <th>toss_decision</th>\n",
       "      <th>winner</th>\n",
       "      <th>result</th>\n",
       "      <th>result_margin</th>\n",
       "      <th>eliminator</th>\n",
       "      <th>method</th>\n",
       "      <th>umpire1</th>\n",
       "      <th>umpire2</th>\n",
       "    </tr>\n",
       "  </thead>\n",
       "  <tbody>\n",
       "    <tr>\n",
       "      <th>2</th>\n",
       "      <td>335984</td>\n",
       "      <td>Delhi</td>\n",
       "      <td>19-04-2008</td>\n",
       "      <td>MF Maharoof</td>\n",
       "      <td>Feroz Shah Kotla</td>\n",
       "      <td>0</td>\n",
       "      <td>Delhi Daredevils</td>\n",
       "      <td>Rajasthan Royals</td>\n",
       "      <td>Rajasthan Royals</td>\n",
       "      <td>bat</td>\n",
       "      <td>Delhi Daredevils</td>\n",
       "      <td>wickets</td>\n",
       "      <td>9.0</td>\n",
       "      <td>N</td>\n",
       "      <td>NaN</td>\n",
       "      <td>Aleem Dar</td>\n",
       "      <td>GA Pratapkumar</td>\n",
       "    </tr>\n",
       "    <tr>\n",
       "      <th>3</th>\n",
       "      <td>335985</td>\n",
       "      <td>Mumbai</td>\n",
       "      <td>20-04-2008</td>\n",
       "      <td>MV Boucher</td>\n",
       "      <td>Wankhede Stadium</td>\n",
       "      <td>0</td>\n",
       "      <td>Mumbai Indians</td>\n",
       "      <td>Royal Challengers Bangalore</td>\n",
       "      <td>Mumbai Indians</td>\n",
       "      <td>bat</td>\n",
       "      <td>Royal Challengers Bangalore</td>\n",
       "      <td>wickets</td>\n",
       "      <td>5.0</td>\n",
       "      <td>N</td>\n",
       "      <td>NaN</td>\n",
       "      <td>SJ Davis</td>\n",
       "      <td>DJ Harper</td>\n",
       "    </tr>\n",
       "    <tr>\n",
       "      <th>4</th>\n",
       "      <td>335986</td>\n",
       "      <td>Kolkata</td>\n",
       "      <td>20-04-2008</td>\n",
       "      <td>DJ Hussey</td>\n",
       "      <td>Eden Gardens</td>\n",
       "      <td>0</td>\n",
       "      <td>Kolkata Knight Riders</td>\n",
       "      <td>Deccan Chargers</td>\n",
       "      <td>Deccan Chargers</td>\n",
       "      <td>bat</td>\n",
       "      <td>Kolkata Knight Riders</td>\n",
       "      <td>wickets</td>\n",
       "      <td>5.0</td>\n",
       "      <td>N</td>\n",
       "      <td>NaN</td>\n",
       "      <td>BF Bowden</td>\n",
       "      <td>K Hariharan</td>\n",
       "    </tr>\n",
       "    <tr>\n",
       "      <th>5</th>\n",
       "      <td>335987</td>\n",
       "      <td>Jaipur</td>\n",
       "      <td>21-04-2008</td>\n",
       "      <td>SR Watson</td>\n",
       "      <td>Sawai Mansingh Stadium</td>\n",
       "      <td>0</td>\n",
       "      <td>Rajasthan Royals</td>\n",
       "      <td>Kings XI Punjab</td>\n",
       "      <td>Kings XI Punjab</td>\n",
       "      <td>bat</td>\n",
       "      <td>Rajasthan Royals</td>\n",
       "      <td>wickets</td>\n",
       "      <td>6.0</td>\n",
       "      <td>N</td>\n",
       "      <td>NaN</td>\n",
       "      <td>Aleem Dar</td>\n",
       "      <td>RB Tiffin</td>\n",
       "    </tr>\n",
       "    <tr>\n",
       "      <th>6</th>\n",
       "      <td>335988</td>\n",
       "      <td>Hyderabad</td>\n",
       "      <td>22-04-2008</td>\n",
       "      <td>V Sehwag</td>\n",
       "      <td>Rajiv Gandhi International Stadium, Uppal</td>\n",
       "      <td>0</td>\n",
       "      <td>Deccan Chargers</td>\n",
       "      <td>Delhi Daredevils</td>\n",
       "      <td>Deccan Chargers</td>\n",
       "      <td>bat</td>\n",
       "      <td>Delhi Daredevils</td>\n",
       "      <td>wickets</td>\n",
       "      <td>9.0</td>\n",
       "      <td>N</td>\n",
       "      <td>NaN</td>\n",
       "      <td>IL Howell</td>\n",
       "      <td>AM Saheba</td>\n",
       "    </tr>\n",
       "  </tbody>\n",
       "</table>\n",
       "</div>"
      ],
      "text/plain": [
       "       id       city        date player_of_match  \\\n",
       "2  335984      Delhi  19-04-2008     MF Maharoof   \n",
       "3  335985     Mumbai  20-04-2008      MV Boucher   \n",
       "4  335986    Kolkata  20-04-2008       DJ Hussey   \n",
       "5  335987     Jaipur  21-04-2008       SR Watson   \n",
       "6  335988  Hyderabad  22-04-2008        V Sehwag   \n",
       "\n",
       "                                       venue  neutral_venue  \\\n",
       "2                           Feroz Shah Kotla              0   \n",
       "3                           Wankhede Stadium              0   \n",
       "4                               Eden Gardens              0   \n",
       "5                     Sawai Mansingh Stadium              0   \n",
       "6  Rajiv Gandhi International Stadium, Uppal              0   \n",
       "\n",
       "                   team1                        team2       toss_winner  \\\n",
       "2       Delhi Daredevils             Rajasthan Royals  Rajasthan Royals   \n",
       "3         Mumbai Indians  Royal Challengers Bangalore    Mumbai Indians   \n",
       "4  Kolkata Knight Riders              Deccan Chargers   Deccan Chargers   \n",
       "5       Rajasthan Royals              Kings XI Punjab   Kings XI Punjab   \n",
       "6        Deccan Chargers             Delhi Daredevils   Deccan Chargers   \n",
       "\n",
       "  toss_decision                       winner   result  result_margin  \\\n",
       "2           bat             Delhi Daredevils  wickets            9.0   \n",
       "3           bat  Royal Challengers Bangalore  wickets            5.0   \n",
       "4           bat        Kolkata Knight Riders  wickets            5.0   \n",
       "5           bat             Rajasthan Royals  wickets            6.0   \n",
       "6           bat             Delhi Daredevils  wickets            9.0   \n",
       "\n",
       "  eliminator method    umpire1         umpire2  \n",
       "2          N    NaN  Aleem Dar  GA Pratapkumar  \n",
       "3          N    NaN   SJ Davis       DJ Harper  \n",
       "4          N    NaN  BF Bowden     K Hariharan  \n",
       "5          N    NaN  Aleem Dar       RB Tiffin  \n",
       "6          N    NaN  IL Howell       AM Saheba  "
      ]
     },
     "execution_count": 46,
     "metadata": {},
     "output_type": "execute_result"
    }
   ],
   "source": [
    "second_batting.head()"
   ]
  },
  {
   "cell_type": "code",
   "execution_count": 47,
   "id": "81e80432",
   "metadata": {},
   "outputs": [
    {
     "data": {
      "text/plain": [
       "Kolkata Knight Riders          58\n",
       "Mumbai Indians                 58\n",
       "Royal Challengers Bangalore    53\n",
       "Rajasthan Royals               53\n",
       "Chennai Super Kings            53\n",
       "Kings XI Punjab                48\n",
       "Delhi Daredevils               42\n",
       "Sunrisers Hyderabad            32\n",
       "Gujarat Lions                  12\n",
       "Deccan Chargers                11\n",
       "Delhi Capitals                 10\n",
       "Pune Warriors                   6\n",
       "Rising Pune Supergiant          5\n",
       "Kochi Tuskers Kerala            4\n",
       "Rising Pune Supergiants         3\n",
       "Name: winner, dtype: int64"
      ]
     },
     "execution_count": 47,
     "metadata": {},
     "output_type": "execute_result"
    }
   ],
   "source": [
    "second_batting['winner'].value_counts()"
   ]
  },
  {
   "cell_type": "code",
   "execution_count": 48,
   "id": "e2a83cd5",
   "metadata": {},
   "outputs": [
    {
     "data": {
      "image/png": "[encoded data removed]",
      "text/plain": [
       "<Figure size 576x288 with 1 Axes>"
      ]
     },
     "metadata": {
      "needs_background": "light"
     },
     "output_type": "display_data"
    }
   ],
   "source": [
    "plt.figure(figsize=(8,4))\n",
    "plt.bar(list(second_batting['winner'].value_counts()[:5].keys()),list(second_batting['winner'].value_counts()[:5]),color=\"g\")\n",
    "plt.show()"
   ]
  },
  {
   "cell_type": "code",
   "execution_count": 51,
   "id": "766362c1",
   "metadata": {},
   "outputs": [
    {
     "data": {
      "image/png": "[encoded data removed]",
      "text/plain": [
       "<Figure size 576x360 with 1 Axes>"
      ]
     },
     "metadata": {},
     "output_type": "display_data"
    }
   ],
   "source": [
    "plt.figure(figsize=(8,5))\n",
    "plt.pie(list(second_batting['winner'].value_counts()),labels=list(second_batting['winner'].value_counts().keys()),autopct='%0.1f%%')\n",
    "plt.show()"
   ]
  },
  {
   "cell_type": "code",
   "execution_count": 52,
   "id": "b222e556",
   "metadata": {},
   "outputs": [
    {
     "data": {
      "text/plain": [
       "Mumbai            101\n",
       "Kolkata            77\n",
       "Delhi              74\n",
       "Bangalore          65\n",
       "Hyderabad          64\n",
       "Chennai            57\n",
       "Chandigarh         56\n",
       "Jaipur             47\n",
       "Pune               38\n",
       "Abu Dhabi          29\n",
       "Dubai              26\n",
       "Bengaluru          15\n",
       "Durban             15\n",
       "Visakhapatnam      13\n",
       "Ahmedabad          12\n",
       "Sharjah            12\n",
       "Centurion          12\n",
       "Rajkot             10\n",
       "Dharamsala          9\n",
       "Indore              9\n",
       "Johannesburg        8\n",
       "Cuttack             7\n",
       "Cape Town           7\n",
       "Port Elizabeth      7\n",
       "Ranchi              7\n",
       "Raipur              6\n",
       "Kochi               5\n",
       "Kanpur              4\n",
       "East London         3\n",
       "Kimberley           3\n",
       "Nagpur              3\n",
       "Bloemfontein        2\n",
       "Name: city, dtype: int64"
      ]
     },
     "execution_count": 52,
     "metadata": {},
     "output_type": "execute_result"
    }
   ],
   "source": [
    "ipl['city'].value_counts()"
   ]
  },
  {
   "cell_type": "code",
   "execution_count": 53,
   "id": "5f2816dc",
   "metadata": {},
   "outputs": [
    {
     "data": {
      "text/plain": [
       "418"
      ]
     },
     "execution_count": 53,
     "metadata": {},
     "output_type": "execute_result"
    }
   ],
   "source": [
    "import numpy as np\n",
    "np.sum(ipl['toss_winner']==ipl['winner'])"
   ]
  },
  {
   "cell_type": "code",
   "execution_count": null,
   "id": "b5890682",
   "metadata": {},
   "outputs": [],
   "source": []
  }
 ],
 "metadata": {
  "kernelspec": {
   "display_name": "Python 3 (ipykernel)",
   "language": "python",
   "name": "python3"
  },
  "language_info": {
   "codemirror_mode": {
    "name": "ipython",
    "version": 3
   },
   "file_extension": ".py",
   "mimetype": "text/x-python",
   "name": "python",
   "nbconvert_exporter": "python",
   "pygments_lexer": "ipython3",
   "version": "3.9.2"
  }
 },
 "nbformat": 4,
 "nbformat_minor": 5
}
